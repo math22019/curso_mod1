{
  "nbformat": 4,
  "nbformat_minor": 0,
  "metadata": {
    "colab": {
      "name": "site hotel.ipynb",
      "provenance": [],
      "toc_visible": true,
      "authorship_tag": "ABX9TyPruLt6iAuAXcluP/e4rkje",
      "include_colab_link": true
    },
    "kernelspec": {
      "name": "python3",
      "display_name": "Python 3"
    },
    "language_info": {
      "name": "python"
    }
  },
  "cells": [
    {
      "cell_type": "markdown",
      "metadata": {
        "id": "view-in-github",
        "colab_type": "text"
      },
      "source": [
        "<a href=\"https://colab.research.google.com/github/math22019/curso_mod1/blob/main/site_hotel.ipynb\" target=\"_parent\"><img src=\"https://colab.research.google.com/assets/colab-badge.svg\" alt=\"Open In Colab\"/></a>"
      ]
    },
    {
      "cell_type": "code",
      "execution_count": 41,
      "metadata": {
        "colab": {
          "base_uri": "https://localhost:8080/"
        },
        "id": "7cm5H7drfrqN",
        "outputId": "86ebca81-00af-47b2-e0be-65b0a0fa8801"
      },
      "outputs": [
        {
          "output_type": "stream",
          "name": "stdout",
          "text": [
            "Você gosta de viajar? não\n",
            "Ok até mais, nos procure se quiser ver mais sobre nossas ofertas\n",
            "Obrigado pela atenção :D\n"
          ]
        }
      ],
      "source": [
        "resposta = input(\"Você gosta de viajar? \")\n",
        "\n",
        "\n",
        "\n",
        "if resposta == \"sim\":\n",
        "  print(\"Ótimo\")\n",
        "  resposta2 = input(\"Gostária de ver ofertas de algum hotel? \") \n",
        "  if resposta2 == \"não\":\n",
        "    print(\"Ok,não vou te mandar nossas ofertas então\")\n",
        "  elif resposta2 == \"sim\":\n",
        "    print(\"Aqui estão nossas ofertas\") \n",
        "  else:\n",
        "    print(\"Não entendi sua resposta\")\n",
        "\n",
        "elif resposta == \"não\":\n",
        "  print(\"Ok até mais, nos procure se quiser ver mais sobre nossas ofertas\")\n",
        "\n",
        "\n",
        "  print(\"Obrigado pela atenção :D\")"
      ]
    }
  ]
}